{
    "nbformat_minor": 2, 
    "cells": [
        {
            "source": "### This notebook will be mainly used for the capstone project.\n\nYou can also see my codes on online jupyter notebook\n\nhttps://eu-gb.dataplatform.cloud.ibm.com/analytics/notebooks/v2/26408491-185c-42c4-b643-75c09b6dbbb4/view?access_token=bf3ee25a1176dc22cf6db686eef1af8042ffa77a1fe81f32f0d12b89517826a1", 
            "cell_type": "markdown", 
            "metadata": {}
        }, 
        {
            "execution_count": 1, 
            "cell_type": "code", 
            "metadata": {}, 
            "outputs": [
                {
                    "output_type": "stream", 
                    "name": "stdout", 
                    "text": "Hello Capstone Project Course!\n"
                }
            ], 
            "source": "import pandas as pd\nimport numpy as np\n\nprint(\"Hello Capstone Project Course!\")"
        }
    ], 
    "metadata": {
        "kernelspec": {
            "display_name": "Python 3.5", 
            "name": "python3", 
            "language": "python"
        }, 
        "language_info": {
            "mimetype": "text/x-python", 
            "nbconvert_exporter": "python", 
            "version": "3.5.5", 
            "name": "python", 
            "file_extension": ".py", 
            "pygments_lexer": "ipython3", 
            "codemirror_mode": {
                "version": 3, 
                "name": "ipython"
            }
        }
    }, 
    "nbformat": 4
}